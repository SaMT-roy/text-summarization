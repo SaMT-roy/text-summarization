{
 "cells": [
  {
   "cell_type": "code",
   "execution_count": 1,
   "id": "ea8d1cf5",
   "metadata": {},
   "outputs": [],
   "source": [
    "import nltk\n",
    "from nltk.tokenize import sent_tokenize\n",
    "from sklearn.feature_extraction.text import TfidfVectorizer\n",
    "import pandas as pd\n",
    "import numpy as np"
   ]
  },
  {
   "cell_type": "code",
   "execution_count": 2,
   "id": "8a5fe83c",
   "metadata": {},
   "outputs": [],
   "source": [
    "text_corpus = \"\"\" CES 2021 hasn’t even officially begun, but we already know one tech trend that will dominate the tech conference. No, it isn’t 5G or self-driving tech but mini-LED displays that will be seen across swanky TVs this year. LG to TCL, every major television manufacturer has plans to show off new TVs with a mini-LED display at this year’s all-digital CES. While many see mini-LED as an emerging TV tech, some estimate that mini-LED technology will eventually come to mainstream laptops, tablets and even smartphones. But what is the brand new mini-LED tech and why are companies want to replace OLED displays with this futuristic display tech?\n",
    "\n",
    "What is Mini-LED display technology?\n",
    "\n",
    "Let’s get straight to the point. The micro-LED display is an improved version of LCD technology. Most modern LCD TVs use LEDs, or Light Emitting Diodes for their backlights. Mini LED, which is sometimes referred to as a sub-millimeter light-emitting diode, is a better version of the traditional LCD display.\n",
    "\n",
    "Mini LEDs work similarly to LEDs used in LED TVs or QLED TVs but are much smaller. At about 200 microns or 0.008 inches across, mini-LEDs are about a fifth of the size of the standard LEDs in use in LCD panels. Since they are smaller in size, more of them can be packed into a screen In fact, they provide much better control of the backlighting and this leads to better image quality.\n",
    "\n",
    "But makes mini-LED display technology so interesting is that you get the same level of contrast and brightness similar to OLED. Having a backlit means, Mini LED-capable TVs can deliver greater brightness and deeper blacks but at a much lower price. Think of mini-LED tech as an affordable version of OLED, without screen burn-in issues.\n",
    "\n",
    "MSI’s Creator 17 is the only Mini LED laptop you can buy in the market.\n",
    "\n",
    "Advantages of mini-LEDs over OLEDs\n",
    "\n",
    "*Greater contrast and improved black levels than OLEDs.\n",
    "\n",
    "*TV manufacturers get more control over dimming zones, meaning how bright or dim parts of the screen can go.\n",
    "\n",
    "*Less expensive to make than OLEDs.\n",
    "\n",
    "*Mini LED tech is better at displaying HDR content.\n",
    "\n",
    "Mini LED tech offers similar benefits to OLED, like deeper blacks and higher contrast.\n",
    "\n",
    "Which TV brands plan to launch Mini-LED TVs?\n",
    "\n",
    "Since last year, TCL has been selling Mini-LED TVs in the market. In fact, TCL was the first major TV manufacturer to launch mini-LED TVs. At CES 2021, the Chinese company said it plans to launch a new range of TVs with the next-gen Mini-LED technology. LG meanwhile says its QNED TVs will use Mini-LED backlight technology and the new range will be shown off for the first time at the tech show. Samsung hasn’t announced any mini-LED TVs yet, but we expect the South Korean major to be a big proponent of this display tech in the future.\n",
    "\n",
    "Several Apple products to feature mini-LED displays this year\n",
    "\n",
    "But while mini-LED on TVs or laptops hasn’t exploded yet, the technology might get a big boost once Apple starts to adopt this display tech. TF International analyst Ming-Chi Kuo believes that several Apple products will launch with mini-LED display tech in 2021. Kou says mini-LED displays could come to the high-end iPad Pro and the MacBook Pro this year. In fact, Apple is rumoured to be working on as many as six devices with the new display tech. What does this mean for people who buy the new iPad Pro or MacBook Pro? Well, we have to wait for Apple to release these products first.\n",
    "\"\"\""
   ]
  },
  {
   "cell_type": "code",
   "execution_count": 3,
   "id": "e3eff016",
   "metadata": {},
   "outputs": [
    {
     "data": {
      "text/plain": [
       "' CES 2021 hasn’t even officially begun, but we already know one tech trend that will dominate the tech conference. No, it isn’t 5G or self-driving tech but mini-LED displays that will be seen across swanky TVs this year. LG to TCL, every major television manufacturer has plans to show off new TVs with a mini-LED display at this year’s all-digital CES. While many see mini-LED as an emerging TV tech, some estimate that mini-LED technology will eventually come to mainstream laptops, tablets and even smartphones. But what is the brand new mini-LED tech and why are companies want to replace OLED displays with this futuristic display tech?\\n\\nWhat is Mini-LED display technology?\\n\\nLet’s get straight to the point. The micro-LED display is an improved version of LCD technology. Most modern LCD TVs use LEDs, or Light Emitting Diodes for their backlights. Mini LED, which is sometimes referred to as a sub-millimeter light-emitting diode, is a better version of the traditional LCD display.\\n\\nMini LEDs work similarly to LEDs used in LED TVs or QLED TVs but are much smaller. At about 200 microns or 0.008 inches across, mini-LEDs are about a fifth of the size of the standard LEDs in use in LCD panels. Since they are smaller in size, more of them can be packed into a screen In fact, they provide much better control of the backlighting and this leads to better image quality.\\n\\nBut makes mini-LED display technology so interesting is that you get the same level of contrast and brightness similar to OLED. Having a backlit means, Mini LED-capable TVs can deliver greater brightness and deeper blacks but at a much lower price. Think of mini-LED tech as an affordable version of OLED, without screen burn-in issues.\\n\\nMSI’s Creator 17 is the only Mini LED laptop you can buy in the market.\\n\\nAdvantages of mini-LEDs over OLEDs\\n\\n*Greater contrast and improved black levels than OLEDs.\\n\\n*TV manufacturers get more control over dimming zones, meaning how bright or dim parts of the screen can go.\\n\\n*Less expensive to make than OLEDs.\\n\\n*Mini LED tech is better at displaying HDR content.\\n\\nMini LED tech offers similar benefits to OLED, like deeper blacks and higher contrast.\\n\\nWhich TV brands plan to launch Mini-LED TVs?\\n\\nSince last year, TCL has been selling Mini-LED TVs in the market. In fact, TCL was the first major TV manufacturer to launch mini-LED TVs. At CES 2021, the Chinese company said it plans to launch a new range of TVs with the next-gen Mini-LED technology. LG meanwhile says its QNED TVs will use Mini-LED backlight technology and the new range will be shown off for the first time at the tech show. Samsung hasn’t announced any mini-LED TVs yet, but we expect the South Korean major to be a big proponent of this display tech in the future.\\n\\nSeveral Apple products to feature mini-LED displays this year\\n\\nBut while mini-LED on TVs or laptops hasn’t exploded yet, the technology might get a big boost once Apple starts to adopt this display tech. TF International analyst Ming-Chi Kuo believes that several Apple products will launch with mini-LED display tech in 2021. Kou says mini-LED displays could come to the high-end iPad Pro and the MacBook Pro this year. In fact, Apple is rumoured to be working on as many as six devices with the new display tech. What does this mean for people who buy the new iPad Pro or MacBook Pro? Well, we have to wait for Apple to release these products first.\\n'"
      ]
     },
     "execution_count": 3,
     "metadata": {},
     "output_type": "execute_result"
    }
   ],
   "source": [
    "text_corpus"
   ]
  },
  {
   "cell_type": "code",
   "execution_count": 12,
   "id": "e345a393",
   "metadata": {},
   "outputs": [],
   "source": [
    "# split it into sentences"
   ]
  },
  {
   "cell_type": "code",
   "execution_count": 4,
   "id": "712b56a5",
   "metadata": {
    "scrolled": true
   },
   "outputs": [
    {
     "name": "stdout",
     "output_type": "stream",
     "text": [
      "0 .  \n",
      " CES 2021 hasn’t even officially begun, but we already know one tech trend that will dominate the tech conference.\n",
      " \n",
      "1 .  \n",
      "No, it isn’t 5G or self-driving tech but mini-LED displays that will be seen across swanky TVs this year.\n",
      " \n",
      "2 .  \n",
      "LG to TCL, every major television manufacturer has plans to show off new TVs with a mini-LED display at this year’s all-digital CES.\n",
      " \n",
      "3 .  \n",
      "While many see mini-LED as an emerging TV tech, some estimate that mini-LED technology will eventually come to mainstream laptops, tablets and even smartphones.\n",
      " \n",
      "4 .  \n",
      "But what is the brand new mini-LED tech and why are companies want to replace OLED displays with this futuristic display tech?\n",
      " \n",
      "5 .  \n",
      "What is Mini-LED display technology?\n",
      " \n",
      "6 .  \n",
      "Let’s get straight to the point.\n",
      " \n",
      "7 .  \n",
      "The micro-LED display is an improved version of LCD technology.\n",
      " \n",
      "8 .  \n",
      "Most modern LCD TVs use LEDs, or Light Emitting Diodes for their backlights.\n",
      " \n",
      "9 .  \n",
      "Mini LED, which is sometimes referred to as a sub-millimeter light-emitting diode, is a better version of the traditional LCD display.\n",
      " \n",
      "10 .  \n",
      "Mini LEDs work similarly to LEDs used in LED TVs or QLED TVs but are much smaller.\n",
      " \n",
      "11 .  \n",
      "At about 200 microns or 0.008 inches across, mini-LEDs are about a fifth of the size of the standard LEDs in use in LCD panels.\n",
      " \n",
      "12 .  \n",
      "Since they are smaller in size, more of them can be packed into a screen In fact, they provide much better control of the backlighting and this leads to better image quality.\n",
      " \n",
      "13 .  \n",
      "But makes mini-LED display technology so interesting is that you get the same level of contrast and brightness similar to OLED.\n",
      " \n",
      "14 .  \n",
      "Having a backlit means, Mini LED-capable TVs can deliver greater brightness and deeper blacks but at a much lower price.\n",
      " \n",
      "15 .  \n",
      "Think of mini-LED tech as an affordable version of OLED, without screen burn-in issues.\n",
      " \n",
      "16 .  \n",
      "MSI’s Creator 17 is the only Mini LED laptop you can buy in the market.\n",
      " \n",
      "17 .  \n",
      "Advantages of mini-LEDs over OLEDs\n",
      "\n",
      "*Greater contrast and improved black levels than OLEDs.\n",
      " \n",
      "18 .  \n",
      "*TV manufacturers get more control over dimming zones, meaning how bright or dim parts of the screen can go.\n",
      " \n",
      "19 .  \n",
      "*Less expensive to make than OLEDs.\n",
      " \n",
      "20 .  \n",
      "*Mini LED tech is better at displaying HDR content.\n",
      " \n",
      "21 .  \n",
      "Mini LED tech offers similar benefits to OLED, like deeper blacks and higher contrast.\n",
      " \n",
      "22 .  \n",
      "Which TV brands plan to launch Mini-LED TVs?\n",
      " \n",
      "23 .  \n",
      "Since last year, TCL has been selling Mini-LED TVs in the market.\n",
      " \n",
      "24 .  \n",
      "In fact, TCL was the first major TV manufacturer to launch mini-LED TVs.\n",
      " \n",
      "25 .  \n",
      "At CES 2021, the Chinese company said it plans to launch a new range of TVs with the next-gen Mini-LED technology.\n",
      " \n",
      "26 .  \n",
      "LG meanwhile says its QNED TVs will use Mini-LED backlight technology and the new range will be shown off for the first time at the tech show.\n",
      " \n",
      "27 .  \n",
      "Samsung hasn’t announced any mini-LED TVs yet, but we expect the South Korean major to be a big proponent of this display tech in the future.\n",
      " \n",
      "28 .  \n",
      "Several Apple products to feature mini-LED displays this year\n",
      "\n",
      "But while mini-LED on TVs or laptops hasn’t exploded yet, the technology might get a big boost once Apple starts to adopt this display tech.\n",
      " \n",
      "29 .  \n",
      "TF International analyst Ming-Chi Kuo believes that several Apple products will launch with mini-LED display tech in 2021.\n",
      " \n",
      "30 .  \n",
      "Kou says mini-LED displays could come to the high-end iPad Pro and the MacBook Pro this year.\n",
      " \n",
      "31 .  \n",
      "In fact, Apple is rumoured to be working on as many as six devices with the new display tech.\n",
      " \n",
      "32 .  \n",
      "What does this mean for people who buy the new iPad Pro or MacBook Pro?\n",
      " \n",
      "33 .  \n",
      "Well, we have to wait for Apple to release these products first.\n",
      " \n"
     ]
    }
   ],
   "source": [
    "sentences = nltk.sent_tokenize(text_corpus)\n",
    "\n",
    "for i,h in enumerate(sentences):\n",
    "    print(i,'.  ')\n",
    "    print(h)\n",
    "    print(' ')"
   ]
  },
  {
   "cell_type": "code",
   "execution_count": 13,
   "id": "7703971a",
   "metadata": {},
   "outputs": [],
   "source": [
    "# create a dictionary of ordered sentences from the given text"
   ]
  },
  {
   "cell_type": "code",
   "execution_count": 5,
   "id": "4ce8d1ac",
   "metadata": {},
   "outputs": [
    {
     "data": {
      "text/plain": [
       "{' CES 2021 hasn’t even officially begun, but we already know one tech trend that will dominate the tech conference.': 0,\n",
       " 'No, it isn’t 5G or self-driving tech but mini-LED displays that will be seen across swanky TVs this year.': 1,\n",
       " 'LG to TCL, every major television manufacturer has plans to show off new TVs with a mini-LED display at this year’s all-digital CES.': 2,\n",
       " 'While many see mini-LED as an emerging TV tech, some estimate that mini-LED technology will eventually come to mainstream laptops, tablets and even smartphones.': 3,\n",
       " 'But what is the brand new mini-LED tech and why are companies want to replace OLED displays with this futuristic display tech?': 4,\n",
       " 'What is Mini-LED display technology?': 5,\n",
       " 'Let’s get straight to the point.': 6,\n",
       " 'The micro-LED display is an improved version of LCD technology.': 7,\n",
       " 'Most modern LCD TVs use LEDs, or Light Emitting Diodes for their backlights.': 8,\n",
       " 'Mini LED, which is sometimes referred to as a sub-millimeter light-emitting diode, is a better version of the traditional LCD display.': 9,\n",
       " 'Mini LEDs work similarly to LEDs used in LED TVs or QLED TVs but are much smaller.': 10,\n",
       " 'At about 200 microns or 0.008 inches across, mini-LEDs are about a fifth of the size of the standard LEDs in use in LCD panels.': 11,\n",
       " 'Since they are smaller in size, more of them can be packed into a screen In fact, they provide much better control of the backlighting and this leads to better image quality.': 12,\n",
       " 'But makes mini-LED display technology so interesting is that you get the same level of contrast and brightness similar to OLED.': 13,\n",
       " 'Having a backlit means, Mini LED-capable TVs can deliver greater brightness and deeper blacks but at a much lower price.': 14,\n",
       " 'Think of mini-LED tech as an affordable version of OLED, without screen burn-in issues.': 15,\n",
       " 'MSI’s Creator 17 is the only Mini LED laptop you can buy in the market.': 16,\n",
       " 'Advantages of mini-LEDs over OLEDs\\n\\n*Greater contrast and improved black levels than OLEDs.': 17,\n",
       " '*TV manufacturers get more control over dimming zones, meaning how bright or dim parts of the screen can go.': 18,\n",
       " '*Less expensive to make than OLEDs.': 19,\n",
       " '*Mini LED tech is better at displaying HDR content.': 20,\n",
       " 'Mini LED tech offers similar benefits to OLED, like deeper blacks and higher contrast.': 21,\n",
       " 'Which TV brands plan to launch Mini-LED TVs?': 22,\n",
       " 'Since last year, TCL has been selling Mini-LED TVs in the market.': 23,\n",
       " 'In fact, TCL was the first major TV manufacturer to launch mini-LED TVs.': 24,\n",
       " 'At CES 2021, the Chinese company said it plans to launch a new range of TVs with the next-gen Mini-LED technology.': 25,\n",
       " 'LG meanwhile says its QNED TVs will use Mini-LED backlight technology and the new range will be shown off for the first time at the tech show.': 26,\n",
       " 'Samsung hasn’t announced any mini-LED TVs yet, but we expect the South Korean major to be a big proponent of this display tech in the future.': 27,\n",
       " 'Several Apple products to feature mini-LED displays this year\\n\\nBut while mini-LED on TVs or laptops hasn’t exploded yet, the technology might get a big boost once Apple starts to adopt this display tech.': 28,\n",
       " 'TF International analyst Ming-Chi Kuo believes that several Apple products will launch with mini-LED display tech in 2021.': 29,\n",
       " 'Kou says mini-LED displays could come to the high-end iPad Pro and the MacBook Pro this year.': 30,\n",
       " 'In fact, Apple is rumoured to be working on as many as six devices with the new display tech.': 31,\n",
       " 'What does this mean for people who buy the new iPad Pro or MacBook Pro?': 32,\n",
       " 'Well, we have to wait for Apple to release these products first.': 33}"
      ]
     },
     "execution_count": 5,
     "metadata": {},
     "output_type": "execute_result"
    }
   ],
   "source": [
    "sentence_organizer = {k:v for v,k in enumerate(sentences)}\n",
    "sentence_organizer"
   ]
  },
  {
   "cell_type": "code",
   "execution_count": 6,
   "id": "9ef2abc1",
   "metadata": {},
   "outputs": [],
   "source": [
    "# Let's now create a tf-idf (Term frequnecy Inverse Document Frequency) model\n",
    "tf_idf_vectorizer = TfidfVectorizer(min_df=2,  max_features=None, \n",
    "                                    strip_accents='unicode', \n",
    "                                    analyzer='word',\n",
    "                                    token_pattern=r'\\w{1,}',\n",
    "                                    ngram_range=(1, 3), \n",
    "                                    use_idf=1,smooth_idf=1,\n",
    "                                    sublinear_tf=1,\n",
    "                                    stop_words = 'english')"
   ]
  },
  {
   "cell_type": "code",
   "execution_count": 7,
   "id": "13b7f191",
   "metadata": {},
   "outputs": [
    {
     "name": "stderr",
     "output_type": "stream",
     "text": [
      "C:\\Users\\Saptarshi MT\\anaconda3\\envs\\tf_gpu\\lib\\site-packages\\sklearn\\utils\\_param_validation.py:541: FutureWarning: Passing an int for a boolean parameter is deprecated in version 1.2 and won't be supported anymore in version 1.4.\n",
      "  warnings.warn(\n"
     ]
    }
   ],
   "source": [
    "sentence_vectors = tf_idf_vectorizer.fit_transform(sentences)"
   ]
  },
  {
   "cell_type": "code",
   "execution_count": 8,
   "id": "2650816a",
   "metadata": {},
   "outputs": [
    {
     "data": {
      "text/plain": [
       "array([2.64276352, 3.01851883, 3.97844455, 3.10270981, 3.18797856,\n",
       "       2.84340268, 1.        , 2.56921302, 2.79623284, 2.99917595,\n",
       "       2.44963625, 2.32262624, 2.3981664 , 3.45588385, 2.81244333,\n",
       "       2.85454956, 2.26135926, 2.48313135, 1.72834317, 1.        ,\n",
       "       2.49733045, 3.30670526, 3.02684083, 2.85190087, 3.73649485,\n",
       "       3.71911455, 3.43065073, 3.59734741, 4.57892491, 3.73799766,\n",
       "       3.92088414, 2.41888601, 3.08948478, 1.4132729 ])"
      ]
     },
     "execution_count": 8,
     "metadata": {},
     "output_type": "execute_result"
    }
   ],
   "source": [
    "\n",
    "# Getting sentence scores for each sentences\n",
    "sentence_scores = np.array(sentence_vectors.sum(axis=1)).ravel()\n",
    "sentence_scores"
   ]
  },
  {
   "cell_type": "code",
   "execution_count": 9,
   "id": "c9fd17f1",
   "metadata": {},
   "outputs": [
    {
     "data": {
      "text/plain": [
       "['Several Apple products to feature mini-LED displays this year\\n\\nBut while mini-LED on TVs or laptops hasn’t exploded yet, the technology might get a big boost once Apple starts to adopt this display tech.',\n",
       " 'LG to TCL, every major television manufacturer has plans to show off new TVs with a mini-LED display at this year’s all-digital CES.',\n",
       " 'Kou says mini-LED displays could come to the high-end iPad Pro and the MacBook Pro this year.',\n",
       " 'TF International analyst Ming-Chi Kuo believes that several Apple products will launch with mini-LED display tech in 2021.',\n",
       " 'In fact, TCL was the first major TV manufacturer to launch mini-LED TVs.',\n",
       " 'At CES 2021, the Chinese company said it plans to launch a new range of TVs with the next-gen Mini-LED technology.',\n",
       " 'Samsung hasn’t announced any mini-LED TVs yet, but we expect the South Korean major to be a big proponent of this display tech in the future.',\n",
       " 'But makes mini-LED display technology so interesting is that you get the same level of contrast and brightness similar to OLED.',\n",
       " 'LG meanwhile says its QNED TVs will use Mini-LED backlight technology and the new range will be shown off for the first time at the tech show.',\n",
       " 'Mini LED tech offers similar benefits to OLED, like deeper blacks and higher contrast.']"
      ]
     },
     "execution_count": 9,
     "metadata": {},
     "output_type": "execute_result"
    }
   ],
   "source": [
    "# Getting top-n sentences\n",
    "N = 10\n",
    "top_n_sentences = [sentences[ind] for ind in np.argsort(sentence_scores, axis=0)[::-1][:N]]\n",
    "\n",
    "top_n_sentences"
   ]
  },
  {
   "cell_type": "code",
   "execution_count": 10,
   "id": "925fbd28",
   "metadata": {},
   "outputs": [
    {
     "name": "stdout",
     "output_type": "stream",
     "text": [
      "Our top_n_sentence with their index: \n",
      "\n",
      "('Several Apple products to feature mini-LED displays this year\\n\\nBut while mini-LED on TVs or laptops hasn’t exploded yet, the technology might get a big boost once Apple starts to adopt this display tech.', 28)\n",
      "('LG to TCL, every major television manufacturer has plans to show off new TVs with a mini-LED display at this year’s all-digital CES.', 2)\n",
      "('Kou says mini-LED displays could come to the high-end iPad Pro and the MacBook Pro this year.', 30)\n",
      "('TF International analyst Ming-Chi Kuo believes that several Apple products will launch with mini-LED display tech in 2021.', 29)\n",
      "('In fact, TCL was the first major TV manufacturer to launch mini-LED TVs.', 24)\n",
      "('At CES 2021, the Chinese company said it plans to launch a new range of TVs with the next-gen Mini-LED technology.', 25)\n",
      "('Samsung hasn’t announced any mini-LED TVs yet, but we expect the South Korean major to be a big proponent of this display tech in the future.', 27)\n",
      "('But makes mini-LED display technology so interesting is that you get the same level of contrast and brightness similar to OLED.', 13)\n",
      "('LG meanwhile says its QNED TVs will use Mini-LED backlight technology and the new range will be shown off for the first time at the tech show.', 26)\n",
      "('Mini LED tech offers similar benefits to OLED, like deeper blacks and higher contrast.', 21)\n"
     ]
    }
   ],
   "source": [
    "# Let's now do the sentence ordering using our prebaked sentence_organizer\n",
    "# Let's map the scored sentences with their indexes\n",
    "mapped_top_n_sentences = [(sentence,sentence_organizer[sentence]) for sentence in top_n_sentences]\n",
    "print(\"Our top_n_sentence with their index: \\n\")\n",
    "for element in mapped_top_n_sentences:\n",
    "    print(element)\n",
    "\n",
    "# Ordering our top-n sentences in their original ordering\n",
    "mapped_top_n_sentences = sorted(mapped_top_n_sentences, key = lambda x: x[1])\n",
    "ordered_scored_sentences = [element[0] for element in mapped_top_n_sentences]\n",
    "\n",
    "# Our final summary\n",
    "summary = \"   \".join(ordered_scored_sentences)"
   ]
  },
  {
   "cell_type": "code",
   "execution_count": null,
   "id": "71de90d7",
   "metadata": {},
   "outputs": [],
   "source": []
  },
  {
   "cell_type": "code",
   "execution_count": 11,
   "id": "68d958f4",
   "metadata": {},
   "outputs": [
    {
     "name": "stdout",
     "output_type": "stream",
     "text": [
      "Summary : \n",
      " \n",
      "LG to TCL, every major television manufacturer has plans to show off new TVs with a mini-LED display at this year’s all-digital CES.   But makes mini-LED display technology so interesting is that you get the same level of contrast and brightness similar to OLED.   Mini LED tech offers similar benefits to OLED, like deeper blacks and higher contrast.   In fact, TCL was the first major TV manufacturer to launch mini-LED TVs.   At CES 2021, the Chinese company said it plans to launch a new range of TVs with the next-gen Mini-LED technology.   LG meanwhile says its QNED TVs will use Mini-LED backlight technology and the new range will be shown off for the first time at the tech show.   Samsung hasn’t announced any mini-LED TVs yet, but we expect the South Korean major to be a big proponent of this display tech in the future.   Several Apple products to feature mini-LED displays this year\n",
      "\n",
      "But while mini-LED on TVs or laptops hasn’t exploded yet, the technology might get a big boost once Apple starts to adopt this display tech.   TF International analyst Ming-Chi Kuo believes that several Apple products will launch with mini-LED display tech in 2021.   Kou says mini-LED displays could come to the high-end iPad Pro and the MacBook Pro this year.\n"
     ]
    }
   ],
   "source": [
    "print('Summary : ')\n",
    "print(' ')\n",
    "print(summary)"
   ]
  },
  {
   "cell_type": "code",
   "execution_count": null,
   "id": "f681a44c",
   "metadata": {},
   "outputs": [],
   "source": []
  }
 ],
 "metadata": {
  "kernelspec": {
   "display_name": "Python 3 (ipykernel)",
   "language": "python",
   "name": "python3"
  },
  "language_info": {
   "codemirror_mode": {
    "name": "ipython",
    "version": 3
   },
   "file_extension": ".py",
   "mimetype": "text/x-python",
   "name": "python",
   "nbconvert_exporter": "python",
   "pygments_lexer": "ipython3",
   "version": "3.9.16"
  }
 },
 "nbformat": 4,
 "nbformat_minor": 5
}
